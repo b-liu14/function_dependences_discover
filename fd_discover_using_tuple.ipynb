{
 "cells": [
  {
   "cell_type": "code",
   "execution_count": 15,
   "metadata": {
    "collapsed": true
   },
   "outputs": [],
   "source": [
    "from __future__ import print_function\n",
    "import numpy as np\n",
    "import csv\n",
    "import time\n",
    "from datetime import datetime\n",
    "t1 = datetime.now()"
   ]
  },
  {
   "cell_type": "code",
   "execution_count": 16,
   "metadata": {
    "collapsed": true
   },
   "outputs": [],
   "source": [
    "filename = 'data.txt'\n",
    "output_filename = 'outputp.txt'\n",
    "with open(filename, 'rb') as f:\n",
    "    reader = csv.reader(f)\n",
    "    table = map(tuple, reader)\n",
    "    table = table"
   ]
  },
  {
   "cell_type": "code",
   "execution_count": 17,
   "metadata": {
    "collapsed": true
   },
   "outputs": [],
   "source": [
    "def add(tup1, v):\n",
    "    return set2tuple(set(tup1) | {v})\n",
    "    \n",
    "def remove(tup1, v):\n",
    "    return set2tuple(set(tup1) - {v})\n",
    "\n",
    "def inter(tup1, tup2):\n",
    "    return set2tuple(set(tup1) & set(tup2))\n",
    "\n",
    "def union(tup1, tup2):\n",
    "    return set2tuple(set(tup1) | set(tup2))\n",
    "\n",
    "def diff(tup1, tup2):\n",
    "    return set2tuple(set(tup1) - set(tup2))\n",
    "\n",
    "def drop(tup1, index):\n",
    "    if index < 0:\n",
    "        index += len(tup1)\n",
    "    return tup1[0:index] + tup1[index+1:]\n",
    "\n",
    "def set2tuple(s):\n",
    "    return tuple(sorted(list(s)))"
   ]
  },
  {
   "cell_type": "code",
   "execution_count": 18,
   "metadata": {
    "collapsed": true
   },
   "outputs": [],
   "source": [
    "from collections import defaultdict\n",
    "partitions = {}\n",
    "def getTupleFromOne(x):\n",
    "    return (x,)\n",
    "def get_partition(attributes):\n",
    "    if attributes in partitions:\n",
    "        return partitions[attributes]\n",
    "    \n",
    "    if len(attributes) == 0:\n",
    "        partitions[attributes] = []\n",
    "    elif len(attributes) == 1:\n",
    "        iAttr = attributes[0]\n",
    "        d = defaultdict(tuple)\n",
    "        for index, row in enumerate(table):\n",
    "            d[row[iAttr]] += (index, )\n",
    "        partitions[attributes] = d.values()\n",
    "    else:\n",
    "        ps1 = get_partition(attributes[0:-1])\n",
    "        ps2 = get_partition(attributes[0:-2] + attributes[-1:])\n",
    "        s = []\n",
    "        iRow2p = {}\n",
    "        for i, p1 in enumerate(ps1):\n",
    "            for iRow in p1:\n",
    "                iRow2p[iRow] = i\n",
    "\n",
    "        for p2 in ps2:\n",
    "            tmp = defaultdict(tuple)\n",
    "            for iRow in p2:\n",
    "                tmp[iRow2p[iRow]] += (iRow, )\n",
    "            s += tmp.values()\n",
    "        partitions[attributes] = s\n",
    "        \n",
    "    return partitions[attributes]"
   ]
  },
  {
   "cell_type": "code",
   "execution_count": 19,
   "metadata": {
    "collapsed": true
   },
   "outputs": [],
   "source": [
    "def isValid(X, E): \n",
    "    '''\n",
    "    test if X\\{E} -> E is valid\n",
    "    X is a set of number, E is a number\n",
    "    '''\n",
    "    return len(get_partition(set2tuple(X - {E}))) == len(get_partition(set2tuple(X)))\n",
    "    \n",
    "def generate_next_level(L):\n",
    "    # list comprehension?\n",
    "    Ln = set([])\n",
    "    for l1 in L:\n",
    "        for l2 in L:\n",
    "            if l1 != l2 and len(diff(l1, l2)) == 1:\n",
    "                Ln.add(union(l1, l2))\n",
    "    return Ln\n",
    "\n",
    "def mycmp(fd1, fd2):\n",
    "    if list(fd1[0]) < list(fd2[0]) or (fd1[0] == fd2[0] and fd1[1] < fd2[1]):\n",
    "        return -1\n",
    "    elif list(fd1[0]) > list(fd2[0]) or (fd1[0] == fd2[0] and fd1[1] > fd2[1]):\n",
    "        return 1\n",
    "    else:\n",
    "        return 0\n",
    "\n",
    "def output_fd(fds):\n",
    "    with open(output_filename, 'w') as f:\n",
    "        fds_sorted = sorted(fds, cmp=mycmp)\n",
    "        for fd in fds_sorted:\n",
    "            str = ''\n",
    "            for l in fd[0]:\n",
    "                str += '%d ' % (l+1)\n",
    "            str += '-> %d\\n' % fd[1]\n",
    "            f.write(str)\n",
    "            # print(str, end='')"
   ]
  },
  {
   "cell_type": "code",
   "execution_count": 20,
   "metadata": {
    "collapsed": true
   },
   "outputs": [],
   "source": [
    "# RHS is a map from \"tuple of number\" to \"set of number\"\n",
    "maxL = len(table[0])\n",
    "R = set(range(maxL))\n",
    "RHS = {(): R}\n",
    "fds = []\n",
    "def compute_dependencies(L): # L is a set of tuple of number\n",
    "    L_new = L.copy()\n",
    "    for X in L:\n",
    "        Xs = set(X)\n",
    "        # X is a tuple of number like (1, 2, 5, ..., n)\n",
    "        # Xs: set of number.\n",
    "        RHS[X] = R\n",
    "        # E: number\n",
    "        for E in Xs:\n",
    "            RHS[X] = RHS[X] & RHS[set2tuple(Xs - {E})]\n",
    "        for E in RHS[X] & Xs:\n",
    "            if isValid(Xs, E):\n",
    "                fds.append((set2tuple(Xs - {E}), E))\n",
    "                RHS[X].remove(E)\n",
    "                RHS[X] = RHS[X] & Xs\n",
    "        if len(RHS[X]) == 0:\n",
    "            L_new.remove(X)\n",
    "    \n",
    "    return L_new"
   ]
  },
  {
   "cell_type": "code",
   "execution_count": 21,
   "metadata": {
    "scrolled": false
   },
   "outputs": [
    {
     "name": "stdout",
     "output_type": "stream",
     "text": [
      " time used: 0:00:31.617200\n"
     ]
    }
   ],
   "source": [
    "def main():\n",
    "    # L is a set of tuple of number\n",
    "    L = set(map(getTupleFromOne, R))\n",
    "    L = compute_dependencies(L)\n",
    "    for i in range(1, maxL):\n",
    "        L = compute_dependencies(generate_next_level(L))\n",
    "\n",
    "    output_fd(fds)\n",
    "\n",
    "%prun main()\n",
    "    \n",
    "print('time used: %s' %(datetime.now() - t1))"
   ]
  }
 ],
 "metadata": {
  "kernelspec": {
   "display_name": "Python 2",
   "language": "python",
   "name": "python2"
  },
  "language_info": {
   "codemirror_mode": {
    "name": "ipython",
    "version": 2
   },
   "file_extension": ".py",
   "mimetype": "text/x-python",
   "name": "python",
   "nbconvert_exporter": "python",
   "pygments_lexer": "ipython2",
   "version": "2.7.10"
  }
 },
 "nbformat": 4,
 "nbformat_minor": 2
}
